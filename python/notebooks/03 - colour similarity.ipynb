{
 "cells": [
  {
   "cell_type": "code",
   "execution_count": null,
   "id": "sudden-debate",
   "metadata": {},
   "outputs": [],
   "source": [
    "from PIL import Image\n",
    "import requests\n",
    "from piffle.iiif import IIIFImageClient\n",
    "from io import BytesIO"
   ]
  },
  {
   "cell_type": "markdown",
   "id": "pointed-strength",
   "metadata": {},
   "source": [
    "Let's find our original cow again"
   ]
  },
  {
   "cell_type": "code",
   "execution_count": null,
   "id": "chinese-integral",
   "metadata": {},
   "outputs": [],
   "source": [
    "API_URL = \"https://api.wellcomecollection.org/catalogue/v2/images/\""
   ]
  },
  {
   "cell_type": "code",
   "execution_count": null,
   "id": "second-effects",
   "metadata": {},
   "outputs": [],
   "source": [
    "response = requests.get(API_URL, params={\n",
    "    \"query\": \"cow\"\n",
    "}).json()"
   ]
  },
  {
   "cell_type": "code",
   "execution_count": null,
   "id": "legal-numbers",
   "metadata": {},
   "outputs": [],
   "source": [
    "first_result_id = response[\"results\"][0][\"id\"]\n",
    "first_result_id"
   ]
  },
  {
   "cell_type": "markdown",
   "id": "enhanced-council",
   "metadata": {},
   "source": [
    "Now let's find images with similar colours!"
   ]
  },
  {
   "cell_type": "code",
   "execution_count": null,
   "id": "destroyed-balloon",
   "metadata": {},
   "outputs": [],
   "source": [
    "response = requests.get(\n",
    "    url=API_URL + first_result_id,\n",
    "    params={\n",
    "        \"include\": \"withSimilarColors\"\n",
    "    }\n",
    ").json()"
   ]
  },
  {
   "cell_type": "code",
   "execution_count": null,
   "id": "swiss-producer",
   "metadata": {},
   "outputs": [],
   "source": [
    "iiif_urls = [\n",
    "    result[\"thumbnail\"][\"url\"]\n",
    "    for result in response[\"withSimilarColors\"]\n",
    "]\n",
    "iiif_urls"
   ]
  },
  {
   "cell_type": "code",
   "execution_count": null,
   "id": "caring-telescope",
   "metadata": {},
   "outputs": [],
   "source": [
    "image_urls = [\n",
    "    IIIFImageClient.init_from_url(iiif_url)\n",
    "    for iiif_url in iiif_urls\n",
    "]"
   ]
  },
  {
   "cell_type": "code",
   "execution_count": null,
   "id": "productive-moral",
   "metadata": {},
   "outputs": [],
   "source": [
    "images = [\n",
    "    Image.open(BytesIO(\n",
    "        requests.get(image_url).content\n",
    "    ))\n",
    "    for image_url in image_urls\n",
    "]"
   ]
  },
  {
   "cell_type": "code",
   "execution_count": null,
   "id": "other-stocks",
   "metadata": {},
   "outputs": [],
   "source": [
    "images[0]"
   ]
  },
  {
   "cell_type": "code",
   "execution_count": null,
   "id": "practical-photograph",
   "metadata": {},
   "outputs": [],
   "source": [
    "images[1]"
   ]
  },
  {
   "cell_type": "code",
   "execution_count": null,
   "id": "advance-management",
   "metadata": {},
   "outputs": [],
   "source": [
    "images[2]"
   ]
  }
 ],
 "metadata": {
  "kernelspec": {
   "display_name": "Python 3",
   "language": "python",
   "name": "python3"
  },
  "language_info": {
   "codemirror_mode": {
    "name": "ipython",
    "version": 3
   },
   "file_extension": ".py",
   "mimetype": "text/x-python",
   "name": "python",
   "nbconvert_exporter": "python",
   "pygments_lexer": "ipython3",
   "version": "3.8.8"
  }
 },
 "nbformat": 4,
 "nbformat_minor": 5
}
