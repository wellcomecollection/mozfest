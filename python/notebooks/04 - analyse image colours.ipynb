{
 "cells": [
  {
   "cell_type": "code",
   "execution_count": null,
   "id": "impaired-longitude",
   "metadata": {},
   "outputs": [],
   "source": [
    "from PIL import Image\n",
    "import requests\n",
    "from piffle.iiif import IIIFImageClient\n",
    "from io import BytesIO"
   ]
  },
  {
   "cell_type": "markdown",
   "id": "possible-beads",
   "metadata": {},
   "source": [
    "Let's fetch another colourful image"
   ]
  },
  {
   "cell_type": "code",
   "execution_count": null,
   "id": "middle-communication",
   "metadata": {},
   "outputs": [],
   "source": [
    "API_URL = \"https://api.wellcomecollection.org/catalogue/v2/images\""
   ]
  },
  {
   "cell_type": "code",
   "execution_count": null,
   "id": "announced-organic",
   "metadata": {},
   "outputs": [],
   "source": [
    "response = requests.get(API_URL, params={\n",
    "    \"query\": \"cow\",\n",
    "    \"color\": \"FFEC03\"\n",
    "}).json()"
   ]
  },
  {
   "cell_type": "code",
   "execution_count": null,
   "id": "unnecessary-blink",
   "metadata": {},
   "outputs": [],
   "source": [
    "image_url = IIIFImageClient.init_from_url(\n",
    "    response[\"results\"][4][\"thumbnail\"][\"url\"]\n",
    ").size(width=400)"
   ]
  },
  {
   "cell_type": "code",
   "execution_count": null,
   "id": "little-mainstream",
   "metadata": {},
   "outputs": [],
   "source": [
    "image_bytes = requests.get(image_url).content\n",
    "image = Image.open(BytesIO(image_bytes))"
   ]
  },
  {
   "cell_type": "code",
   "execution_count": null,
   "id": "affecting-pressing",
   "metadata": {},
   "outputs": [],
   "source": [
    "image"
   ]
  },
  {
   "cell_type": "markdown",
   "id": "reduced-multimedia",
   "metadata": {},
   "source": [
    "We can use `numpy` to turn the image into more numerical data"
   ]
  },
  {
   "cell_type": "code",
   "execution_count": null,
   "id": "chinese-liberal",
   "metadata": {},
   "outputs": [],
   "source": [
    "import numpy as np\n",
    "image_data = np.array(image)"
   ]
  },
  {
   "cell_type": "code",
   "execution_count": null,
   "id": "answering-philosophy",
   "metadata": {},
   "outputs": [],
   "source": [
    "pixels = image_data.reshape(-1, 3)\n",
    "pixels"
   ]
  },
  {
   "cell_type": "code",
   "execution_count": null,
   "id": "final-blanket",
   "metadata": {},
   "outputs": [],
   "source": [
    "pixels.shape"
   ]
  },
  {
   "cell_type": "markdown",
   "id": "continuous-scheduling",
   "metadata": {},
   "source": [
    "that's a lot of pixels! Instead of plotting all of them, we can just plot a sample to get a sense of the colour distribution in 3d space"
   ]
  },
  {
   "cell_type": "code",
   "execution_count": null,
   "id": "proud-acquisition",
   "metadata": {},
   "outputs": [],
   "source": [
    "random_indexes = np.random.choice(pixels.shape[0], 1000)\n",
    "pixels = pixels[random_indexes]"
   ]
  },
  {
   "cell_type": "markdown",
   "id": "identical-education",
   "metadata": {},
   "source": [
    "Now we can use matplotlib to plot the data in 3D RBG space!"
   ]
  },
  {
   "cell_type": "code",
   "execution_count": null,
   "id": "nervous-wound",
   "metadata": {},
   "outputs": [],
   "source": [
    "%matplotlib inline\n",
    "from mpl_toolkits import mplot3d\n",
    "import numpy as np\n",
    "import matplotlib.pyplot as plt"
   ]
  },
  {
   "cell_type": "code",
   "execution_count": null,
   "id": "communist-gentleman",
   "metadata": {},
   "outputs": [],
   "source": [
    "fig = plt.figure()\n",
    "ax = plt.axes(projection='3d')\n",
    "ax.scatter3D(\n",
    "    *pixels.T,    # unpack pixels into R, G, B\n",
    "    c=pixels/256  # plot each point with its colour\n",
    ");"
   ]
  }
 ],
 "metadata": {
  "kernelspec": {
   "display_name": "Python 3",
   "language": "python",
   "name": "python3"
  },
  "language_info": {
   "codemirror_mode": {
    "name": "ipython",
    "version": 3
   },
   "file_extension": ".py",
   "mimetype": "text/x-python",
   "name": "python",
   "nbconvert_exporter": "python",
   "pygments_lexer": "ipython3",
   "version": "3.8.8"
  }
 },
 "nbformat": 4,
 "nbformat_minor": 5
}
