{
 "cells": [
  {
   "cell_type": "code",
   "execution_count": null,
   "id": "corresponding-kazakhstan",
   "metadata": {},
   "outputs": [],
   "source": [
    "from PIL import Image\n",
    "import requests\n",
    "from piffle.iiif import IIIFImageClient\n",
    "from io import BytesIO"
   ]
  },
  {
   "cell_type": "code",
   "execution_count": null,
   "id": "quarterly-scanner",
   "metadata": {},
   "outputs": [],
   "source": [
    "API_URL = \"https://api.wellcomecollection.org/catalogue/v2/images\""
   ]
  },
  {
   "cell_type": "markdown",
   "id": "urban-operations",
   "metadata": {},
   "source": [
    "This time we'll search for cow again but we'll add a `color` parameter to the query.\n",
    "\n",
    "The colours are encoded as hex codes. You can use [this colour picker](https://htmlcolorcodes.com/color-picker/) to find the hex code for any colour.\n",
    "\n",
    "`ff0000` is a really bright red."
   ]
  },
  {
   "cell_type": "code",
   "execution_count": null,
   "id": "interested-emphasis",
   "metadata": {},
   "outputs": [],
   "source": [
    "response = requests.get(API_URL, params={\n",
    "    \"query\": \"cow\",\n",
    "    \"color\": \"ff0000\"\n",
    "}).json()"
   ]
  },
  {
   "cell_type": "markdown",
   "id": "conventional-twist",
   "metadata": {},
   "source": [
    "From here on, the process is roughly the same. \n",
    "\n",
    "Fetch the IIIF URL, turn it into an image URL, and then fetch and display the image bytes."
   ]
  },
  {
   "cell_type": "code",
   "execution_count": null,
   "id": "legal-providence",
   "metadata": {},
   "outputs": [],
   "source": [
    "image_url = IIIFImageClient.init_from_url(\n",
    "    response[\"results\"][0][\"thumbnail\"][\"url\"]\n",
    ").size(width=400)"
   ]
  },
  {
   "cell_type": "code",
   "execution_count": null,
   "id": "convinced-rhythm",
   "metadata": {},
   "outputs": [],
   "source": [
    "image_bytes = requests.get(image_url).content\n",
    "image = Image.open(BytesIO(image_bytes))"
   ]
  },
  {
   "cell_type": "code",
   "execution_count": null,
   "id": "interested-grave",
   "metadata": {},
   "outputs": [],
   "source": [
    "image"
   ]
  },
  {
   "cell_type": "markdown",
   "id": "motivated-expansion",
   "metadata": {},
   "source": [
    "Let's try a bright yellow instead"
   ]
  },
  {
   "cell_type": "code",
   "execution_count": null,
   "id": "aquatic-cradle",
   "metadata": {},
   "outputs": [],
   "source": [
    "response = requests.get(API_URL, params={\n",
    "    \"query\": \"cow\",\n",
    "    \"color\": \"FFEC03\"\n",
    "}).json()"
   ]
  },
  {
   "cell_type": "code",
   "execution_count": null,
   "id": "expensive-colorado",
   "metadata": {},
   "outputs": [],
   "source": [
    "image_url = IIIFImageClient.init_from_url(\n",
    "    response[\"results\"][0][\"thumbnail\"][\"url\"]\n",
    ").size(width=400)"
   ]
  },
  {
   "cell_type": "code",
   "execution_count": null,
   "id": "equipped-carter",
   "metadata": {},
   "outputs": [],
   "source": [
    "image_bytes = requests.get(image_url).content\n",
    "image = Image.open(BytesIO(image_bytes))"
   ]
  },
  {
   "cell_type": "code",
   "execution_count": null,
   "id": "demanding-louisville",
   "metadata": {},
   "outputs": [],
   "source": [
    "image"
   ]
  },
  {
   "cell_type": "code",
   "execution_count": null,
   "id": "featured-rendering",
   "metadata": {},
   "outputs": [],
   "source": []
  }
 ],
 "metadata": {
  "kernelspec": {
   "display_name": "Python 3",
   "language": "python",
   "name": "python3"
  },
  "language_info": {
   "codemirror_mode": {
    "name": "ipython",
    "version": 3
   },
   "file_extension": ".py",
   "mimetype": "text/x-python",
   "name": "python",
   "nbconvert_exporter": "python",
   "pygments_lexer": "ipython3",
   "version": "3.8.8"
  }
 },
 "nbformat": 4,
 "nbformat_minor": 5
}
