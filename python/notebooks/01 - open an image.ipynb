{
 "cells": [
  {
   "cell_type": "code",
   "execution_count": null,
   "id": "similar-implement",
   "metadata": {},
   "outputs": [],
   "source": [
    "from PIL import Image\n",
    "import requests\n",
    "from piffle.iiif import IIIFImageClient\n",
    "from io import BytesIO"
   ]
  },
  {
   "cell_type": "markdown",
   "id": "disabled-amount",
   "metadata": {},
   "source": [
    "First we'll set the Wellcome Collection image API endpoint"
   ]
  },
  {
   "cell_type": "code",
   "execution_count": null,
   "id": "nutritional-regular",
   "metadata": {},
   "outputs": [],
   "source": [
    "API_URL = \"https://api.wellcomecollection.org/catalogue/v2/images\""
   ]
  },
  {
   "cell_type": "markdown",
   "id": "raised-wonder",
   "metadata": {},
   "source": [
    "Then make a query to the API, using the params setting. Let's search for cows"
   ]
  },
  {
   "cell_type": "code",
   "execution_count": null,
   "id": "logical-english",
   "metadata": {},
   "outputs": [],
   "source": [
    "response = requests.get(API_URL, params={\n",
    "    \"query\": \"cow\"\n",
    "}).json()"
   ]
  },
  {
   "cell_type": "markdown",
   "id": "confident-fountain",
   "metadata": {},
   "source": [
    "We get back a huge chunk of json - let's take a look at the data in the first result"
   ]
  },
  {
   "cell_type": "code",
   "execution_count": null,
   "id": "accomplished-drove",
   "metadata": {},
   "outputs": [],
   "source": [
    "response[\"results\"][0]"
   ]
  },
  {
   "cell_type": "markdown",
   "id": "induced-expansion",
   "metadata": {},
   "source": [
    "Lot's of stuff there, but all we're interested in is seeing image. First let's take a look at the IIIF url "
   ]
  },
  {
   "cell_type": "code",
   "execution_count": null,
   "id": "regulation-counter",
   "metadata": {},
   "outputs": [],
   "source": [
    "iiif_url = response[\"results\"][0][\"thumbnail\"][\"url\"]\n",
    "iiif_url"
   ]
  },
  {
   "cell_type": "markdown",
   "id": "linear-professor",
   "metadata": {},
   "source": [
    "To get the image itself, we have to parse the thumbnail's IIIF info url. That's what `piffle`'s for."
   ]
  },
  {
   "cell_type": "code",
   "execution_count": null,
   "id": "diagnostic-jamaica",
   "metadata": {},
   "outputs": [],
   "source": [
    "iiif_image = IIIFImageClient.init_from_url(iiif_url)\n",
    "str(iiif_image)"
   ]
  },
  {
   "cell_type": "markdown",
   "id": "blond-execution",
   "metadata": {},
   "source": [
    "`piffle` allows us to tweak the image settings before we retrieve the URL, eg change the dimensions of the image"
   ]
  },
  {
   "cell_type": "code",
   "execution_count": null,
   "id": "large-share",
   "metadata": {},
   "outputs": [],
   "source": [
    "image_url = iiif_image.size(width=400)\n",
    "str(image_url)"
   ]
  },
  {
   "cell_type": "markdown",
   "id": "extensive-stockholm",
   "metadata": {},
   "source": [
    "Finally, we can fetch our image from the URL we've generated"
   ]
  },
  {
   "cell_type": "code",
   "execution_count": null,
   "id": "fitted-penetration",
   "metadata": {},
   "outputs": [],
   "source": [
    "image_bytes = requests.get(image_url).content\n",
    "image = Image.open(BytesIO(image_bytes))\n",
    "\n",
    "image"
   ]
  },
  {
   "cell_type": "code",
   "execution_count": null,
   "id": "temporal-myrtle",
   "metadata": {},
   "outputs": [],
   "source": []
  }
 ],
 "metadata": {
  "kernelspec": {
   "display_name": "Python 3",
   "language": "python",
   "name": "python3"
  },
  "language_info": {
   "codemirror_mode": {
    "name": "ipython",
    "version": 3
   },
   "file_extension": ".py",
   "mimetype": "text/x-python",
   "name": "python",
   "nbconvert_exporter": "python",
   "pygments_lexer": "ipython3",
   "version": "3.8.8"
  }
 },
 "nbformat": 4,
 "nbformat_minor": 5
}
